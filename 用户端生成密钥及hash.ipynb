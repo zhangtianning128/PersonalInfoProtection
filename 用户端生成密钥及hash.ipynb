{
 "cells": [
  {
   "cell_type": "code",
   "execution_count": 1,
   "metadata": {},
   "outputs": [
    {
     "name": "stdout",
     "output_type": "stream",
     "text": [
      "Requirement already satisfied: cryptography in c:\\users\\think\\appdata\\local\\programs\\python\\python39\\lib\\site-packages (41.0.2)\n",
      "Requirement already satisfied: cffi>=1.12 in c:\\users\\think\\appdata\\local\\programs\\python\\python39\\lib\\site-packages (from cryptography) (1.15.1)\n",
      "Requirement already satisfied: pycparser in c:\\users\\think\\appdata\\local\\programs\\python\\python39\\lib\\site-packages (from cffi>=1.12->cryptography) (2.21)\n",
      "Note: you may need to restart the kernel to use updated packages.\n"
     ]
    },
    {
     "name": "stderr",
     "output_type": "stream",
     "text": [
      "WARNING: You are using pip version 20.2.3; however, version 23.2.1 is available.\n",
      "You should consider upgrading via the 'c:\\Users\\think\\AppData\\Local\\Programs\\Python\\Python39\\python.exe -m pip install --upgrade pip' command.\n"
     ]
    },
    {
     "name": "stdout",
     "output_type": "stream",
     "text": [
      "Requirement already satisfied: pyopenssl in c:\\users\\think\\appdata\\local\\programs\\python\\python39\\lib\\site-packages (23.2.0)\n",
      "Requirement already satisfied: cryptography!=40.0.0,!=40.0.1,<42,>=38.0.0 in c:\\users\\think\\appdata\\local\\programs\\python\\python39\\lib\\site-packages (from pyopenssl) (41.0.2)\n",
      "Requirement already satisfied: cffi>=1.12 in c:\\users\\think\\appdata\\local\\programs\\python\\python39\\lib\\site-packages (from cryptography!=40.0.0,!=40.0.1,<42,>=38.0.0->pyopenssl) (1.15.1)\n",
      "Requirement already satisfied: pycparser in c:\\users\\think\\appdata\\local\\programs\\python\\python39\\lib\\site-packages (from cffi>=1.12->cryptography!=40.0.0,!=40.0.1,<42,>=38.0.0->pyopenssl) (2.21)\n",
      "Note: you may need to restart the kernel to use updated packages.\n"
     ]
    },
    {
     "name": "stderr",
     "output_type": "stream",
     "text": [
      "WARNING: You are using pip version 20.2.3; however, version 23.2.1 is available.\n",
      "You should consider upgrading via the 'c:\\Users\\think\\AppData\\Local\\Programs\\Python\\Python39\\python.exe -m pip install --upgrade pip' command.\n"
     ]
    }
   ],
   "source": [
    "%pip install cryptography\n",
    "%pip install pyopenssl\n"
   ]
  },
  {
   "cell_type": "code",
   "execution_count": 2,
   "metadata": {},
   "outputs": [
    {
     "name": "stdout",
     "output_type": "stream",
     "text": [
      "Encrypted: b'UHW\\xee\\x0f\\xce\\xf8\\xcd\\x0c\\xcf\\x9f\\xbcrz\\xea\\x1f\\xe1\\x9bH\\x05\\xdb\\xfd\\x90Z\\x1af\\xbd\\xc8\\x83\\x9d\\xc8\\xb0\\x9c3}j[J\\xfc\\xe3\\xa7\\x9f)\\xe1^H4\\xc5X\\xf5\\x9c&\\x92\\xb0{\\xd3\\xa4\\xa52\\xeey\\xa9q\\xa8\\xf6\\xa5\\x8dJ\\xab\\xf2fe\\xf2\\xe5\\x0b\\x05\\x89\\xc4\\x9f\\x8f\\xe8V\\xff\\x99\\xf6\\xaf\\x16+\\x1e\\x98\\x07\\xa0=\\xec\\x15\\xfe=\\x12\\xff\\x88\\xed\\x93\\x88\\x86L\\x8aT\\xb3\\x94\\xa5\\x05\\xe5\\x19,m\\x84\\xf4\\x8fE\\xee\\xbc\\xb0cN\\r\\x0bpP\\x9f\\xf8\\xa6\\xe6s\\xfd\\xab\\x03\\xd2\\x99mxw\\xb8\\xa9}o\\x81z\\x0b\\xc8\\xa4&\\x04\\x9f\\xab[\\xd8\\x8bs\\xfdt\\x10m\\xfc\\xf3\\xbd\\xa6\\xf0j^\\x01\\x89[\\xccA\\x01\\xb5\\xb6\\xddn\\xafT\\x0f7\\xee\\xe7\\x95-*\\x15\\xfc\\xfben\\xe8D\\x83\\xa0\\xa4XB.\\xab-\\xc8\\xe3B\\x93\\x8ai,\\x97s\\x85+\\x94\\x0c\\x84U\\xe5\\xe5\\x01\\xf2\\xadY\\x9f\\xadV\\x07c\\x84\\x85\\xb5EJ-\\xd8\\x88\\x86b\\x8c\\xac~\\xfbp\\x9eL\\xec`\"\\xdc=<p\\xf9\\xde\\xb9'\n",
      "Decrypted: This is a message to be encrypted.\n"
     ]
    }
   ],
   "source": [
    "from cryptography.hazmat.backends import default_backend\n",
    "from cryptography.hazmat.primitives import serialization\n",
    "from cryptography.hazmat.primitives.asymmetric import padding\n",
    "from cryptography.hazmat.primitives import hashes\n",
    "\n",
    "def encrypt_with_public_key(public_key_path, plaintext):\n",
    "    # Load public key from file\n",
    "    with open(\"public_key.pem\", \"rb\") as key_file:\n",
    "        public_key = serialization.load_pem_public_key(\n",
    "            key_file.read(),\n",
    "            backend=default_backend()\n",
    "        )\n",
    "\n",
    "    # Encrypt plaintext with the public key\n",
    "    ciphertext = public_key.encrypt(\n",
    "        plaintext,\n",
    "        padding.OAEP(\n",
    "            mgf=padding.MGF1(algorithm=hashes.SHA256()),\n",
    "            algorithm=hashes.SHA256(),\n",
    "            label=None\n",
    "        )\n",
    "    )\n",
    "    \n",
    "    return ciphertext\n",
    "\n",
    "def decrypt_with_private_key(private_key_path, ciphertext):\n",
    "    # Load private key from file\n",
    "    with open(\"private_key.pem\", \"rb\") as key_file:\n",
    "        private_key = serialization.load_pem_private_key(\n",
    "            key_file.read(),\n",
    "            password=None,\n",
    "            backend=default_backend()\n",
    "        )\n",
    "\n",
    "    # Decrypt ciphertext with the private key\n",
    "    decrypted_text = private_key.decrypt(\n",
    "        ciphertext,\n",
    "        padding.OAEP(\n",
    "            mgf=padding.MGF1(algorithm=hashes.SHA256()),\n",
    "            algorithm=hashes.SHA256(),\n",
    "            label=None\n",
    "        )\n",
    "    )\n",
    "    \n",
    "    return decrypted_text\n",
    "\n",
    "# Test the functions\n",
    "if __name__ == \"__main__\":\n",
    "    plaintext = b\"This is a message to be encrypted.\"\n",
    "    \n",
    "    encrypted_text = encrypt_with_public_key(\"path_to_public_key.pem\", plaintext)\n",
    "    print(\"Encrypted:\", encrypted_text)\n",
    "\n",
    "    decrypted_text = decrypt_with_private_key(\"path_to_private_key.pem\", encrypted_text)\n",
    "    print(\"Decrypted:\", decrypted_text.decode())\n"
   ]
  },
  {
   "cell_type": "code",
   "execution_count": 1,
   "metadata": {},
   "outputs": [
    {
     "name": "stdout",
     "output_type": "stream",
     "text": [
      "Requirement already satisfied: cryptography in c:\\users\\think\\appdata\\local\\programs\\python\\python39\\lib\\site-packages (41.0.2)\n",
      "Collecting psycopg2\n",
      "  Downloading psycopg2-2.9.7-cp39-cp39-win_amd64.whl (1.2 MB)\n",
      "Requirement already satisfied: cffi>=1.12 in c:\\users\\think\\appdata\\local\\programs\\python\\python39\\lib\\site-packages (from cryptography) (1.15.1)\n",
      "Requirement already satisfied: pycparser in c:\\users\\think\\appdata\\local\\programs\\python\\python39\\lib\\site-packages (from cffi>=1.12->cryptography) (2.21)\n",
      "Installing collected packages: psycopg2\n",
      "Successfully installed psycopg2-2.9.7\n",
      "Note: you may need to restart the kernel to use updated packages.\n"
     ]
    },
    {
     "name": "stderr",
     "output_type": "stream",
     "text": [
      "WARNING: You are using pip version 20.2.3; however, version 23.2.1 is available.\n",
      "You should consider upgrading via the 'c:\\Users\\think\\AppData\\Local\\Programs\\Python\\Python39\\python.exe -m pip install --upgrade pip' command.\n"
     ]
    }
   ],
   "source": [
    "%pip install cryptography psycopg2\n"
   ]
  },
  {
   "cell_type": "code",
   "execution_count": 3,
   "metadata": {},
   "outputs": [
    {
     "ename": "OperationalError",
     "evalue": "could not translate host name \"db_container\" to address: Unknown host\n",
     "output_type": "error",
     "traceback": [
      "\u001b[1;31m---------------------------------------------------------------------------\u001b[0m",
      "\u001b[1;31mOperationalError\u001b[0m                          Traceback (most recent call last)",
      "Cell \u001b[1;32mIn[3], line 34\u001b[0m\n\u001b[0;32m     24\u001b[0m ciphertext \u001b[39m=\u001b[39m public_key\u001b[39m.\u001b[39mencrypt(\n\u001b[0;32m     25\u001b[0m     plaintext\u001b[39m.\u001b[39mencode(),\n\u001b[0;32m     26\u001b[0m     padding\u001b[39m.\u001b[39mOAEP(\n\u001b[1;32m   (...)\u001b[0m\n\u001b[0;32m     30\u001b[0m     )\n\u001b[0;32m     31\u001b[0m )\n\u001b[0;32m     33\u001b[0m \u001b[39m# 4. 将加密的数据存储到 PostgreSQL 数据库\u001b[39;00m\n\u001b[1;32m---> 34\u001b[0m conn \u001b[39m=\u001b[39m psycopg2\u001b[39m.\u001b[39;49mconnect(\n\u001b[0;32m     35\u001b[0m         host\u001b[39m=\u001b[39;49m\u001b[39m\"\u001b[39;49m\u001b[39mdb_container\u001b[39;49m\u001b[39m\"\u001b[39;49m,  \u001b[39m# 这是Docker容器的名字\u001b[39;49;00m\n\u001b[0;32m     36\u001b[0m         dbname\u001b[39m=\u001b[39;49m\u001b[39m\"\u001b[39;49m\u001b[39mpostgres\u001b[39;49m\u001b[39m\"\u001b[39;49m,\n\u001b[0;32m     37\u001b[0m         user\u001b[39m=\u001b[39;49m\u001b[39m\"\u001b[39;49m\u001b[39mpostgres\u001b[39;49m\u001b[39m\"\u001b[39;49m,\n\u001b[0;32m     38\u001b[0m         password\u001b[39m=\u001b[39;49m\u001b[39m\"\u001b[39;49m\u001b[39mmysecretpassword\u001b[39;49m\u001b[39m\"\u001b[39;49m  \u001b[39m# 这应该与您启动数据库容器时设置的密码匹配\u001b[39;49;00m\n\u001b[0;32m     39\u001b[0m     )\n\u001b[0;32m     40\u001b[0m cur \u001b[39m=\u001b[39m conn\u001b[39m.\u001b[39mcursor()\n\u001b[0;32m     41\u001b[0m cur\u001b[39m.\u001b[39mexecute(\u001b[39m\"\u001b[39m\u001b[39mCREATE TABLE IF NOT EXISTS encrypted_data (id serial PRIMARY KEY, data bytea);\u001b[39m\u001b[39m\"\u001b[39m)\n",
      "File \u001b[1;32mc:\\Users\\think\\AppData\\Local\\Programs\\Python\\Python39\\lib\\site-packages\\psycopg2\\__init__.py:122\u001b[0m, in \u001b[0;36mconnect\u001b[1;34m(dsn, connection_factory, cursor_factory, **kwargs)\u001b[0m\n\u001b[0;32m    119\u001b[0m     kwasync[\u001b[39m'\u001b[39m\u001b[39masync_\u001b[39m\u001b[39m'\u001b[39m] \u001b[39m=\u001b[39m kwargs\u001b[39m.\u001b[39mpop(\u001b[39m'\u001b[39m\u001b[39masync_\u001b[39m\u001b[39m'\u001b[39m)\n\u001b[0;32m    121\u001b[0m dsn \u001b[39m=\u001b[39m _ext\u001b[39m.\u001b[39mmake_dsn(dsn, \u001b[39m*\u001b[39m\u001b[39m*\u001b[39mkwargs)\n\u001b[1;32m--> 122\u001b[0m conn \u001b[39m=\u001b[39m _connect(dsn, connection_factory\u001b[39m=\u001b[39mconnection_factory, \u001b[39m*\u001b[39m\u001b[39m*\u001b[39mkwasync)\n\u001b[0;32m    123\u001b[0m \u001b[39mif\u001b[39;00m cursor_factory \u001b[39mis\u001b[39;00m \u001b[39mnot\u001b[39;00m \u001b[39mNone\u001b[39;00m:\n\u001b[0;32m    124\u001b[0m     conn\u001b[39m.\u001b[39mcursor_factory \u001b[39m=\u001b[39m cursor_factory\n",
      "\u001b[1;31mOperationalError\u001b[0m: could not translate host name \"db_container\" to address: Unknown host\n"
     ]
    }
   ],
   "source": [
    "import psycopg2\n",
    "from cryptography.hazmat.primitives import serialization\n",
    "from cryptography.hazmat.primitives.asymmetric import rsa, padding\n",
    "from cryptography.hazmat.primitives import hashes\n",
    "\n",
    "# 1. 生成公钥和私钥\n",
    "private_key = rsa.generate_private_key(public_exponent=65537, key_size=2048)\n",
    "public_key = private_key.public_key()\n",
    "\n",
    "# 2. 序列化公钥和私钥，以便存储或传输\n",
    "pem_private = private_key.private_bytes(\n",
    "    encoding=serialization.Encoding.PEM,\n",
    "    format=serialization.PrivateFormat.TraditionalOpenSSL,\n",
    "    encryption_algorithm=serialization.NoEncryption()\n",
    ")\n",
    "\n",
    "pem_public = public_key.public_bytes(\n",
    "    encoding=serialization.Encoding.PEM,\n",
    "    format=serialization.PublicFormat.SubjectPublicKeyInfo\n",
    ")\n",
    "\n",
    "# 3. 使用公钥加密数据\n",
    "plaintext = \"Hello, World!\"\n",
    "ciphertext = public_key.encrypt(\n",
    "    plaintext.encode(),\n",
    "    padding.OAEP(\n",
    "        mgf=padding.MGF1(algorithm=hashes.SHA256()),\n",
    "        algorithm=hashes.SHA256(),\n",
    "        label=None\n",
    "    )\n",
    ")\n",
    "\n",
    "# 4. 将加密的数据存储到 PostgreSQL 数据库\n",
    "conn = psycopg2.connect(\n",
    "        host=\"db_container\",  # 这是Docker容器的名字\n",
    "        dbname=\"postgres\",\n",
    "        user=\"postgres\",\n",
    "        password=\"mysecretpassword\"  # 这应该与您启动数据库容器时设置的密码匹配\n",
    "    )\n",
    "cur = conn.cursor()\n",
    "cur.execute(\"CREATE TABLE IF NOT EXISTS encrypted_data (id serial PRIMARY KEY, data bytea);\")\n",
    "cur.execute(\"INSERT INTO encrypted_data (data) VALUES (%s) RETURNING id;\", (ciphertext,))\n",
    "row_id = cur.fetchone()[0]\n",
    "conn.commit()\n",
    "\n",
    "# 5. 从数据库读取加密的数据\n",
    "cur.execute(\"SELECT data FROM encrypted_data WHERE id = %s;\", (row_id,))\n",
    "encrypted_data = cur.fetchone()[0]\n",
    "\n",
    "# 6. 使用私钥解密数据\n",
    "decrypted_data = private_key.decrypt(\n",
    "    encrypted_data,\n",
    "    padding.OAEP(\n",
    "        mgf=padding.MGF1(algorithm=hashes.SHA256()),\n",
    "        algorithm=hashes.SHA256(),\n",
    "        label=None\n",
    "    )\n",
    ").decode()\n",
    "\n",
    "print(decrypted_data)  # 应该输出 \"Hello, World!\"\n",
    "\n",
    "cur.close()\n",
    "conn.close()\n"
   ]
  },
  {
   "cell_type": "code",
   "execution_count": 11,
   "metadata": {},
   "outputs": [],
   "source": [
    "from cryptography import x509"
   ]
  },
  {
   "cell_type": "code",
   "execution_count": 20,
   "metadata": {},
   "outputs": [],
   "source": [
    "from cryptography.hazmat.backends import default_backend\n",
    "from cryptography.hazmat.primitives import hashes, serialization\n",
    "from cryptography.hazmat.primitives.asymmetric import padding, rsa\n",
    "import base64\n",
    "\n",
    "# 生成三个公私钥对\n",
    "key_pairs = [rsa.generate_private_key(public_exponent=65537, key_size=2048, backend=default_backend()) for _ in range(3)]\n",
    "\n",
    "# 保存公钥和私钥到文件\n",
    "for i, key_pair in enumerate(key_pairs, 1):\n",
    "    # 保存公钥\n",
    "    public_key = key_pair.public_key().public_bytes(\n",
    "        encoding=serialization.Encoding.PEM,\n",
    "        format=serialization.PublicFormat.SubjectPublicKeyInfo\n",
    "    )\n",
    "    with open(f\"public_key_{i}.pem\", \"wb\") as pub_file:\n",
    "        pub_file.write(public_key)\n",
    "\n",
    "    # 保存私钥\n",
    "    private_key = key_pair.private_bytes(\n",
    "        encoding=serialization.Encoding.PEM,\n",
    "        format=serialization.PrivateFormat.PKCS8,\n",
    "        encryption_algorithm=serialization.NoEncryption()\n",
    "    )\n",
    "    with open(f\"private_key_{i}.pem\", \"wb\") as priv_file:\n",
    "        priv_file.write(private_key)\n",
    "\n",
    "# 使用私钥生成三个签名，这里我们以公钥作为要签名的数据，并保存到文件\n",
    "for i, key_pair in enumerate(key_pairs, 1):\n",
    "    public_key = key_pair.public_key().public_bytes(\n",
    "        encoding=serialization.Encoding.PEM,\n",
    "        format=serialization.PublicFormat.SubjectPublicKeyInfo\n",
    "    )\n",
    "    signature = key_pair.sign(\n",
    "        public_key,\n",
    "        padding.PSS(mgf=padding.MGF1(hashes.SHA256()), salt_length=padding.PSS.MAX_LENGTH),\n",
    "        hashes.SHA256()\n",
    "    )\n",
    "    encoded_signature = base64.b64encode(signature)\n",
    "    \n",
    "    with open(f\"signature_{i}.txt\", \"w\") as sig_file:\n",
    "        sig_file.write(encoded_signature.decode())\n"
   ]
  },
  {
   "cell_type": "code",
   "execution_count": 2,
   "metadata": {},
   "outputs": [],
   "source": [
    "from cryptography import x509\n",
    "from cryptography.x509.oid import NameOID\n",
    "from cryptography.hazmat.primitives import hashes\n",
    "from cryptography.hazmat.primitives.asymmetric import rsa\n",
    "from cryptography.hazmat.primitives import serialization\n",
    "from cryptography.hazmat.backends import default_backend\n",
    "import datetime\n",
    "\n",
    "# Generate a 2048 bit RSA private key\n",
    "private_key = rsa.generate_private_key(\n",
    "    public_exponent=65537,\n",
    "    key_size=2048,\n",
    "    backend=default_backend()\n",
    ")\n",
    "\n",
    "public_key = private_key.public_key()\n",
    "\n",
    "# Various details about who we are. For a self-signed certificate the\n",
    "# subject and issuer are always the same.\n",
    "subject = issuer = x509.Name([\n",
    "    x509.NameAttribute(NameOID.COUNTRY_NAME, u\"US\"),\n",
    "    x509.NameAttribute(NameOID.STATE_OR_PROVINCE_NAME, u\"CA\"),\n",
    "    x509.NameAttribute(NameOID.LOCALITY_NAME, u\"San Francisco\"),\n",
    "    x509.NameAttribute(NameOID.ORGANIZATION_NAME, u\"My Company\"),\n",
    "    x509.NameAttribute(NameOID.COMMON_NAME, u\"mysite.com\"),\n",
    "])\n",
    "cert = x509.CertificateBuilder().subject_name(\n",
    "    subject\n",
    ").issuer_name(\n",
    "    issuer\n",
    ").public_key(\n",
    "    public_key\n",
    ").serial_number(\n",
    "    x509.random_serial_number()\n",
    ").not_valid_before(\n",
    "    datetime.datetime.utcnow()\n",
    ").not_valid_after(\n",
    "    # Our certificate will be valid for 10 days\n",
    "    datetime.datetime.utcnow() + datetime.timedelta(days=10)\n",
    ").sign(private_key, hashes.SHA256(), default_backend())\n",
    "\n",
    "# Write our certificate out to disk.\n",
    "with open(\"D:\\second_party_certificate.pem\", \"wb\") as f:\n",
    "    f.write(cert.public_bytes(serialization.Encoding.PEM))\n",
    "\n",
    "# Write our private key out to disk.\n",
    "with open(\"D:\\second_party_private_key.pem\", \"wb\") as f:\n",
    "    f.write(private_key.private_bytes(\n",
    "        serialization.Encoding.PEM,\n",
    "        serialization.PrivateFormat.TraditionalOpenSSL,\n",
    "        serialization.NoEncryption()))\n"
   ]
  },
  {
   "cell_type": "code",
   "execution_count": 4,
   "metadata": {},
   "outputs": [
    {
     "name": "stdout",
     "output_type": "stream",
     "text": [
      "Could not fetch URL https://pypi.org/simple/hashlib/: There was a problem confirming the ssl certificate: HTTPSConnectionPool(host='pypi.org', port=443): Max retries exceeded with url: /simple/hashlib/ (Caused by SSLError(SSLEOFError(8, 'EOF occurred in violation of protocol (_ssl.c:1122)'))) - skipping\n",
      "Note: you may need to restart the kernel to use updated packages.\n"
     ]
    },
    {
     "name": "stderr",
     "output_type": "stream",
     "text": [
      "WARNING: Retrying (Retry(total=4, connect=None, read=None, redirect=None, status=None)) after connection broken by 'SSLError(SSLEOFError(8, 'EOF occurred in violation of protocol (_ssl.c:1122)'))': /simple/hashlib/\n",
      "WARNING: Retrying (Retry(total=3, connect=None, read=None, redirect=None, status=None)) after connection broken by 'SSLError(SSLEOFError(8, 'EOF occurred in violation of protocol (_ssl.c:1122)'))': /simple/hashlib/\n",
      "WARNING: Retrying (Retry(total=2, connect=None, read=None, redirect=None, status=None)) after connection broken by 'SSLError(SSLEOFError(8, 'EOF occurred in violation of protocol (_ssl.c:1122)'))': /simple/hashlib/\n",
      "WARNING: Retrying (Retry(total=1, connect=None, read=None, redirect=None, status=None)) after connection broken by 'SSLError(SSLEOFError(8, 'EOF occurred in violation of protocol (_ssl.c:1122)'))': /simple/hashlib/\n",
      "WARNING: Retrying (Retry(total=0, connect=None, read=None, redirect=None, status=None)) after connection broken by 'SSLError(SSLEOFError(8, 'EOF occurred in violation of protocol (_ssl.c:1122)'))': /simple/hashlib/\n",
      "ERROR: Could not find a version that satisfies the requirement hashlib (from versions: none)\n",
      "ERROR: No matching distribution found for hashlib\n",
      "WARNING: You are using pip version 20.2.3; however, version 23.2.1 is available.\n",
      "You should consider upgrading via the 'c:\\Users\\think\\AppData\\Local\\Programs\\Python\\Python39\\python.exe -m pip install --upgrade pip' command.\n"
     ]
    }
   ],
   "source": [
    "%pip install hashlib\n"
   ]
  },
  {
   "cell_type": "code",
   "execution_count": 15,
   "metadata": {},
   "outputs": [
    {
     "name": "stdout",
     "output_type": "stream",
     "text": [
      "The SHA-256 hash of your personal information is:  5be8db6710c0d553823fd70398ff78cb0d0934af5a9d39bfb943fad6338c5573\n"
     ]
    }
   ],
   "source": [
    "import hashlib\n",
    "\n",
    "# Collect personal information\n",
    "name = input(\"Please enter your name: \")\n",
    "address = input(\"Please enter your address: \")\n",
    "phone_number = input(\"Please enter your phone number: \")\n",
    "\n",
    "# Combine the personal information into one string\n",
    "personal_info = name + address + phone_number\n",
    "\n",
    "# Create a SHA-256 hash of the personal information\n",
    "hash_object = hashlib.sha256(personal_info.encode())\n",
    "hex_dig = hash_object.hexdigest()\n",
    "\n",
    "print(\"The SHA-256 hash of your personal information is: \", hex_dig)\n"
   ]
  },
  {
   "cell_type": "code",
   "execution_count": 5,
   "metadata": {},
   "outputs": [
    {
     "name": "stdout",
     "output_type": "stream",
     "text": [
      "-----BEGIN PUBLIC KEY-----\n",
      "MIIBIjANBgkqhkiG9w0BAQEFAAOCAQ8AMIIBCgKCAQEAu/II+Mkik7dLKZ2DjAOm\n",
      "HfBILLvocD8K6xTK8XxbTnuurggcNsdFH5Lt53BrHKAXQJXXgamyFMPnRULnzjAw\n",
      "aS/MHYF1ui/Q2jJPX7fB4pt97OZWrkxWu7UtyeBgkGNsid9YZN1wK17xibFG87ih\n",
      "ifrrFS3wudtghDxm1ye/Vcb8S20hu0eP5436t107L1metVpRt7SB6jVvRD1/Jkpt\n",
      "ouPuGjvKUqXFOC+L7YegerkQzt9DbU+Lg6dIgskv7k3yOVnpevXLqx5e9SSVlH4O\n",
      "KkbM2idmAw/0Oy23YNFnXN/FdlqcwjQ65I8Z+lxt92C3bNfJFtNuNidZ69OavEin\n",
      "LwIDAQAB\n",
      "-----END PUBLIC KEY-----\n",
      "\n"
     ]
    }
   ],
   "source": [
    "from cryptography.hazmat.primitives import serialization\n",
    "from cryptography.hazmat.backends import default_backend\n",
    "\n",
    "# Load the private key\n",
    "with open(\"D:\\second_party_private_key.pem\", \"rb\") as key_file:  # replace with your actual private key file path\n",
    "    private_key = serialization.load_pem_private_key(\n",
    "        key_file.read(),\n",
    "        password=None,  # replace with your password if the private key is encrypted\n",
    "        backend=default_backend()\n",
    "    )\n",
    "\n",
    "# The corresponding public key can be obtained from the private key\n",
    "public_key = private_key.public_key()\n",
    "\n",
    "# Serialize the public key in PEM format\n",
    "public_key_pem = public_key.public_bytes(\n",
    "    encoding=serialization.Encoding.PEM,\n",
    "    format=serialization.PublicFormat.SubjectPublicKeyInfo\n",
    ")\n",
    "\n",
    "print(public_key_pem.decode())\n"
   ]
  },
  {
   "cell_type": "code",
   "execution_count": 2,
   "metadata": {},
   "outputs": [
    {
     "name": "stdout",
     "output_type": "stream",
     "text": [
      "b'K\\x0f\\xc6j)\\x0e\\xcf!P\\xdc\\xc1\\x01\\xeb\\xf2\\x96f=^A\\xbaaU\\xf54\\x0e\\x1f\\xb6fP\\x92\\xb0l\\xa6\\x0e\\xee\\xd7\\xc0iEG\\xbb;f\\xc1p\\x0b\\xd2\\xa5\\xb2W)gL\\xde\\xdd\\r\\xa0[\\xe6\\xfa\\xc6VD\\x97\\xe8\\xc7\\xe6\\x92\\xe1\\xa3:\\xe4]k\\xcb\\x9dF^\\x850\\x95\\x17\\xc4s\\xaa\\x93\\xb2}-j\\xe6\\xc3\\xf7{\\x8e\\xadd\\xc0\\x14X\\xb0\\xb4\\x9b1\\xe8W\\xd2[g\\x82\\xdd\\x14\\xd0\\x81\\\\sZF\\xfd.\\xc6\\x03\\x8d\\x0e\\\\\\x92\\'\\x96X\\x1fR\\x94\\xdc\\x0b;\\xc7\\xff[\\xfdl\\x1e\\x85\\xcc\\x1eQ\\xcb\\xa3\\xd0\\xb6/\\x9a\\x84Y\\xbd\\x9a\\xb4\\x8a\\xf4\\'5\\x88\\x88\\xbd8,\\x19\\x03:\\x16~\\x84g\\xe2\\x0e\\x1e\\x9a\\xe4\\xd9\\xa2\\xbe+_\\xf5jsC\\x04\\xd5>\\xce\\xf7\\xcd\\xabo\\xa9\\x92&\\x93\\x8a\\x08\\xce,\\xad\\xe9\\x07\\x96\\x9c\"\"\\xed\\xec\\xe7f\\x18\\xc1\\xc0\\xbf\\x95i\"5D\"y\\xee%\\xd2KD31c$5\\x1f \\xc6R/b;;m32\\x18T\\xc1\\x12\\x1b\\xb0I=\\x92\\xc1P'\n"
     ]
    }
   ],
   "source": [
    "from cryptography.hazmat.primitives import serialization\n",
    "from cryptography.hazmat.backends import default_backend\n",
    "from cryptography.hazmat.primitives import hashes\n",
    "from cryptography.hazmat.primitives.asymmetric import padding\n",
    "\n",
    "# Load the private key\n",
    "with open(\"D:\\private_key.pem\", \"rb\") as key_file:  # replace with your actual private key file path\n",
    "    private_key = serialization.load_pem_private_key(\n",
    "        key_file.read(),\n",
    "        password=None,  # replace with your password if the private key is encrypted\n",
    "        backend=default_backend()\n",
    "    )\n",
    "\n",
    "# Assume that we have a message\n",
    "message = \"This is a message that needs to be signed\"\n",
    "\n",
    "# Sign the message\n",
    "signature = private_key.sign(\n",
    "    message.encode(),\n",
    "    padding.PSS(\n",
    "        mgf=padding.MGF1(hashes.SHA256()),\n",
    "        salt_length=padding.PSS.MAX_LENGTH\n",
    "    ),\n",
    "    hashes.SHA256()\n",
    ")\n",
    "\n",
    "print(signature)\n"
   ]
  },
  {
   "cell_type": "code",
   "execution_count": 6,
   "metadata": {},
   "outputs": [],
   "source": [
    "# Save the public key to a file\n",
    "with open(\"D:\\second_party_public_key.pem\", \"wb\") as f:  # replace with your actual file path\n",
    "    f.write(public_key_pem)\n",
    "\n",
    "# Save the signature to a file\n",
    "#with open(\"D:\\signature.sig\", \"wb\") as f:  # replace with your actual file path\n",
    "#    f.write(signature)\n"
   ]
  },
  {
   "cell_type": "code",
   "execution_count": 4,
   "metadata": {},
   "outputs": [],
   "source": [
    "from cryptography.hazmat.primitives import serialization, hashes\n",
    "from cryptography.hazmat.primitives.asymmetric import padding\n",
    "from cryptography.hazmat.backends import default_backend\n",
    "\n",
    "# 读取公钥\n",
    "with open('second_party_public_key.pem', 'r') as f:\n",
    "    public_key = f.read()\n",
    "\n",
    "# 读取私钥\n",
    "with open('second_party_private_key.pem', 'r') as f:\n",
    "    private_key = serialization.load_pem_private_key(\n",
    "        f.read().encode(),\n",
    "        password=None,\n",
    "        backend=default_backend()\n",
    "    )\n",
    "\n",
    "# 用私钥对公钥进行签名\n",
    "signer = private_key.sign(\n",
    "    public_key.encode(),\n",
    "    padding.PSS(\n",
    "        mgf=padding.MGF1(hashes.SHA256()),\n",
    "        salt_length=padding.PSS.MAX_LENGTH\n",
    "    ),\n",
    "    hashes.SHA256()\n",
    ")\n",
    "\n",
    "# 保存签名到文件\n",
    "with open('second_party_signature.sig', 'wb') as f:\n",
    "    f.write(signer)\n"
   ]
  },
  {
   "cell_type": "code",
   "execution_count": 5,
   "metadata": {},
   "outputs": [
    {
     "name": "stdout",
     "output_type": "stream",
     "text": [
      "Collecting pillowNote: you may need to restart the kernel to use updated packages.\n"
     ]
    },
    {
     "name": "stderr",
     "output_type": "stream",
     "text": [
      "WARNING: You are using pip version 20.2.3; however, version 23.2.1 is available.\n",
      "You should consider upgrading via the 'c:\\Users\\think\\AppData\\Local\\Programs\\Python\\Python39\\python.exe -m pip install --upgrade pip' command.\n"
     ]
    },
    {
     "name": "stdout",
     "output_type": "stream",
     "text": [
      "\n",
      "  Downloading Pillow-10.0.0-cp39-cp39-win_amd64.whl (2.5 MB)\n",
      "Installing collected packages: pillow\n",
      "Successfully installed pillow-10.0.0\n"
     ]
    }
   ],
   "source": [
    "%pip install pillow\n"
   ]
  },
  {
   "cell_type": "code",
   "execution_count": 6,
   "metadata": {},
   "outputs": [
    {
     "name": "stdout",
     "output_type": "stream",
     "text": [
      "Collecting qrcode[pil]\n",
      "  Downloading qrcode-7.4.2-py3-none-any.whl (46 kB)\n",
      "Collecting pypng\n",
      "  Downloading pypng-0.20220715.0-py3-none-any.whl (58 kB)\n",
      "Requirement already satisfied: colorama; platform_system == \"Windows\" in c:\\users\\think\\appdata\\roaming\\python\\python39\\site-packages (from qrcode[pil]) (0.4.6)\n",
      "Requirement already satisfied: typing-extensions in c:\\users\\think\\appdata\\roaming\\python\\python39\\site-packages (from qrcode[pil]) (4.5.0)\n",
      "Requirement already satisfied: pillow>=9.1.0; extra == \"pil\" in c:\\users\\think\\appdata\\local\\programs\\python\\python39\\lib\\site-packages (from qrcode[pil]) (10.0.0)\n",
      "Installing collected packages: pypng, qrcode\n",
      "Successfully installed pypng-0.20220715.0 qrcode-7.4.2\n",
      "Note: you may need to restart the kernel to use updated packages.\n"
     ]
    },
    {
     "name": "stderr",
     "output_type": "stream",
     "text": [
      "  WARNING: The script qr.exe is installed in 'c:\\Users\\think\\AppData\\Local\\Programs\\Python\\Python39\\Scripts' which is not on PATH.\n",
      "  Consider adding this directory to PATH or, if you prefer to suppress this warning, use --no-warn-script-location.\n",
      "WARNING: You are using pip version 20.2.3; however, version 23.2.1 is available.\n",
      "You should consider upgrading via the 'c:\\Users\\think\\AppData\\Local\\Programs\\Python\\Python39\\python.exe -m pip install --upgrade pip' command.\n"
     ]
    }
   ],
   "source": [
    "%pip install qrcode[pil]"
   ]
  },
  {
   "cell_type": "code",
   "execution_count": 19,
   "metadata": {},
   "outputs": [
    {
     "name": "stdout",
     "output_type": "stream",
     "text": [
      "Requirement already satisfied: pycryptodome in c:\\users\\think\\appdata\\local\\programs\\python\\python39\\lib\\site-packages (3.18.0)\n",
      "Note: you may need to restart the kernel to use updated packages.\n"
     ]
    },
    {
     "name": "stderr",
     "output_type": "stream",
     "text": [
      "WARNING: You are using pip version 20.2.3; however, version 23.2.1 is available.\n",
      "You should consider upgrading via the 'c:\\Users\\think\\AppData\\Local\\Programs\\Python\\Python39\\python.exe -m pip install --upgrade pip' command.\n"
     ]
    },
    {
     "name": "stdout",
     "output_type": "stream",
     "text": [
      "Collecting pycrypto\n",
      "  Using cached pycrypto-2.6.1.tar.gz (446 kB)\n",
      "Using legacy 'setup.py install' for pycrypto, since package 'wheel' is not installed.\n",
      "Installing collected packages: pycrypto\n",
      "    Running setup.py install for pycrypto: started\n",
      "    Running setup.py install for pycrypto: finished with status 'error'\n",
      "Note: you may need to restart the kernel to use updated packages.\n"
     ]
    },
    {
     "name": "stderr",
     "output_type": "stream",
     "text": [
      "    ERROR: Command errored out with exit status 1:\n",
      "     command: 'c:\\Users\\think\\AppData\\Local\\Programs\\Python\\Python39\\python.exe' -u -c 'import sys, setuptools, tokenize; sys.argv[0] = '\"'\"'C:\\\\Users\\\\think\\\\AppData\\\\Local\\\\Temp\\\\pip-install-5s9sj8y3\\\\pycrypto\\\\setup.py'\"'\"'; __file__='\"'\"'C:\\\\Users\\\\think\\\\AppData\\\\Local\\\\Temp\\\\pip-install-5s9sj8y3\\\\pycrypto\\\\setup.py'\"'\"';f=getattr(tokenize, '\"'\"'open'\"'\"', open)(__file__);code=f.read().replace('\"'\"'\\r\\n'\"'\"', '\"'\"'\\n'\"'\"');f.close();exec(compile(code, __file__, '\"'\"'exec'\"'\"'))' install --record 'C:\\Users\\think\\AppData\\Local\\Temp\\pip-record-ms6fkvd9\\install-record.txt' --single-version-externally-managed --compile --install-headers 'c:\\Users\\think\\AppData\\Local\\Programs\\Python\\Python39\\Include\\pycrypto'\n",
      "         cwd: C:\\Users\\think\\AppData\\Local\\Temp\\pip-install-5s9sj8y3\\pycrypto\\\n",
      "    Complete output (153 lines):\n",
      "    running install\n",
      "    running build\n",
      "    running build_py\n",
      "    creating build\n",
      "    creating build\\lib.win-amd64-3.9\n",
      "    creating build\\lib.win-amd64-3.9\\Crypto\n",
      "    copying lib\\Crypto\\pct_warnings.py -> build\\lib.win-amd64-3.9\\Crypto\n",
      "    copying lib\\Crypto\\__init__.py -> build\\lib.win-amd64-3.9\\Crypto\n",
      "    creating build\\lib.win-amd64-3.9\\Crypto\\Hash\n",
      "    copying lib\\Crypto\\Hash\\hashalgo.py -> build\\lib.win-amd64-3.9\\Crypto\\Hash\n",
      "    copying lib\\Crypto\\Hash\\HMAC.py -> build\\lib.win-amd64-3.9\\Crypto\\Hash\n",
      "    copying lib\\Crypto\\Hash\\MD2.py -> build\\lib.win-amd64-3.9\\Crypto\\Hash\n",
      "    copying lib\\Crypto\\Hash\\MD4.py -> build\\lib.win-amd64-3.9\\Crypto\\Hash\n",
      "    copying lib\\Crypto\\Hash\\MD5.py -> build\\lib.win-amd64-3.9\\Crypto\\Hash\n",
      "    copying lib\\Crypto\\Hash\\RIPEMD.py -> build\\lib.win-amd64-3.9\\Crypto\\Hash\n",
      "    copying lib\\Crypto\\Hash\\SHA.py -> build\\lib.win-amd64-3.9\\Crypto\\Hash\n",
      "    copying lib\\Crypto\\Hash\\SHA224.py -> build\\lib.win-amd64-3.9\\Crypto\\Hash\n",
      "    copying lib\\Crypto\\Hash\\SHA256.py -> build\\lib.win-amd64-3.9\\Crypto\\Hash\n",
      "    copying lib\\Crypto\\Hash\\SHA384.py -> build\\lib.win-amd64-3.9\\Crypto\\Hash\n",
      "    copying lib\\Crypto\\Hash\\SHA512.py -> build\\lib.win-amd64-3.9\\Crypto\\Hash\n",
      "    copying lib\\Crypto\\Hash\\__init__.py -> build\\lib.win-amd64-3.9\\Crypto\\Hash\n",
      "    creating build\\lib.win-amd64-3.9\\Crypto\\Cipher\n",
      "    copying lib\\Crypto\\Cipher\\AES.py -> build\\lib.win-amd64-3.9\\Crypto\\Cipher\n",
      "    copying lib\\Crypto\\Cipher\\ARC2.py -> build\\lib.win-amd64-3.9\\Crypto\\Cipher\n",
      "    copying lib\\Crypto\\Cipher\\ARC4.py -> build\\lib.win-amd64-3.9\\Crypto\\Cipher\n",
      "    copying lib\\Crypto\\Cipher\\blockalgo.py -> build\\lib.win-amd64-3.9\\Crypto\\Cipher\n",
      "    copying lib\\Crypto\\Cipher\\Blowfish.py -> build\\lib.win-amd64-3.9\\Crypto\\Cipher\n",
      "    copying lib\\Crypto\\Cipher\\CAST.py -> build\\lib.win-amd64-3.9\\Crypto\\Cipher\n",
      "    copying lib\\Crypto\\Cipher\\DES.py -> build\\lib.win-amd64-3.9\\Crypto\\Cipher\n",
      "    copying lib\\Crypto\\Cipher\\DES3.py -> build\\lib.win-amd64-3.9\\Crypto\\Cipher\n",
      "    copying lib\\Crypto\\Cipher\\PKCS1_OAEP.py -> build\\lib.win-amd64-3.9\\Crypto\\Cipher\n",
      "    copying lib\\Crypto\\Cipher\\PKCS1_v1_5.py -> build\\lib.win-amd64-3.9\\Crypto\\Cipher\n",
      "    copying lib\\Crypto\\Cipher\\XOR.py -> build\\lib.win-amd64-3.9\\Crypto\\Cipher\n",
      "    copying lib\\Crypto\\Cipher\\__init__.py -> build\\lib.win-amd64-3.9\\Crypto\\Cipher\n",
      "    creating build\\lib.win-amd64-3.9\\Crypto\\Util\n",
      "    copying lib\\Crypto\\Util\\asn1.py -> build\\lib.win-amd64-3.9\\Crypto\\Util\n",
      "    copying lib\\Crypto\\Util\\Counter.py -> build\\lib.win-amd64-3.9\\Crypto\\Util\n",
      "    copying lib\\Crypto\\Util\\number.py -> build\\lib.win-amd64-3.9\\Crypto\\Util\n",
      "    copying lib\\Crypto\\Util\\py3compat.py -> build\\lib.win-amd64-3.9\\Crypto\\Util\n",
      "    copying lib\\Crypto\\Util\\randpool.py -> build\\lib.win-amd64-3.9\\Crypto\\Util\n",
      "    copying lib\\Crypto\\Util\\RFC1751.py -> build\\lib.win-amd64-3.9\\Crypto\\Util\n",
      "    copying lib\\Crypto\\Util\\winrandom.py -> build\\lib.win-amd64-3.9\\Crypto\\Util\n",
      "    copying lib\\Crypto\\Util\\_number_new.py -> build\\lib.win-amd64-3.9\\Crypto\\Util\n",
      "    copying lib\\Crypto\\Util\\__init__.py -> build\\lib.win-amd64-3.9\\Crypto\\Util\n",
      "    creating build\\lib.win-amd64-3.9\\Crypto\\Random\n",
      "    copying lib\\Crypto\\Random\\random.py -> build\\lib.win-amd64-3.9\\Crypto\\Random\n",
      "    copying lib\\Crypto\\Random\\_UserFriendlyRNG.py -> build\\lib.win-amd64-3.9\\Crypto\\Random\n",
      "    copying lib\\Crypto\\Random\\__init__.py -> build\\lib.win-amd64-3.9\\Crypto\\Random\n",
      "    creating build\\lib.win-amd64-3.9\\Crypto\\Random\\Fortuna\n",
      "    copying lib\\Crypto\\Random\\Fortuna\\FortunaAccumulator.py -> build\\lib.win-amd64-3.9\\Crypto\\Random\\Fortuna\n",
      "    copying lib\\Crypto\\Random\\Fortuna\\FortunaGenerator.py -> build\\lib.win-amd64-3.9\\Crypto\\Random\\Fortuna\n",
      "    copying lib\\Crypto\\Random\\Fortuna\\SHAd256.py -> build\\lib.win-amd64-3.9\\Crypto\\Random\\Fortuna\n",
      "    copying lib\\Crypto\\Random\\Fortuna\\__init__.py -> build\\lib.win-amd64-3.9\\Crypto\\Random\\Fortuna\n",
      "    creating build\\lib.win-amd64-3.9\\Crypto\\Random\\OSRNG\n",
      "    copying lib\\Crypto\\Random\\OSRNG\\fallback.py -> build\\lib.win-amd64-3.9\\Crypto\\Random\\OSRNG\n",
      "    copying lib\\Crypto\\Random\\OSRNG\\nt.py -> build\\lib.win-amd64-3.9\\Crypto\\Random\\OSRNG\n",
      "    copying lib\\Crypto\\Random\\OSRNG\\posix.py -> build\\lib.win-amd64-3.9\\Crypto\\Random\\OSRNG\n",
      "    copying lib\\Crypto\\Random\\OSRNG\\rng_base.py -> build\\lib.win-amd64-3.9\\Crypto\\Random\\OSRNG\n",
      "    copying lib\\Crypto\\Random\\OSRNG\\__init__.py -> build\\lib.win-amd64-3.9\\Crypto\\Random\\OSRNG\n",
      "    creating build\\lib.win-amd64-3.9\\Crypto\\SelfTest\n",
      "    copying lib\\Crypto\\SelfTest\\st_common.py -> build\\lib.win-amd64-3.9\\Crypto\\SelfTest\n",
      "    copying lib\\Crypto\\SelfTest\\__init__.py -> build\\lib.win-amd64-3.9\\Crypto\\SelfTest\n",
      "    creating build\\lib.win-amd64-3.9\\Crypto\\SelfTest\\Cipher\n",
      "    copying lib\\Crypto\\SelfTest\\Cipher\\common.py -> build\\lib.win-amd64-3.9\\Crypto\\SelfTest\\Cipher\n",
      "    copying lib\\Crypto\\SelfTest\\Cipher\\test_AES.py -> build\\lib.win-amd64-3.9\\Crypto\\SelfTest\\Cipher\n",
      "    copying lib\\Crypto\\SelfTest\\Cipher\\test_ARC2.py -> build\\lib.win-amd64-3.9\\Crypto\\SelfTest\\Cipher\n",
      "    copying lib\\Crypto\\SelfTest\\Cipher\\test_ARC4.py -> build\\lib.win-amd64-3.9\\Crypto\\SelfTest\\Cipher\n",
      "    copying lib\\Crypto\\SelfTest\\Cipher\\test_Blowfish.py -> build\\lib.win-amd64-3.9\\Crypto\\SelfTest\\Cipher\n",
      "    copying lib\\Crypto\\SelfTest\\Cipher\\test_CAST.py -> build\\lib.win-amd64-3.9\\Crypto\\SelfTest\\Cipher\n",
      "    copying lib\\Crypto\\SelfTest\\Cipher\\test_DES.py -> build\\lib.win-amd64-3.9\\Crypto\\SelfTest\\Cipher\n",
      "    copying lib\\Crypto\\SelfTest\\Cipher\\test_DES3.py -> build\\lib.win-amd64-3.9\\Crypto\\SelfTest\\Cipher\n",
      "    copying lib\\Crypto\\SelfTest\\Cipher\\test_pkcs1_15.py -> build\\lib.win-amd64-3.9\\Crypto\\SelfTest\\Cipher\n",
      "    copying lib\\Crypto\\SelfTest\\Cipher\\test_pkcs1_oaep.py -> build\\lib.win-amd64-3.9\\Crypto\\SelfTest\\Cipher\n",
      "    copying lib\\Crypto\\SelfTest\\Cipher\\test_XOR.py -> build\\lib.win-amd64-3.9\\Crypto\\SelfTest\\Cipher\n",
      "    copying lib\\Crypto\\SelfTest\\Cipher\\__init__.py -> build\\lib.win-amd64-3.9\\Crypto\\SelfTest\\Cipher\n",
      "    creating build\\lib.win-amd64-3.9\\Crypto\\SelfTest\\Hash\n",
      "    copying lib\\Crypto\\SelfTest\\Hash\\common.py -> build\\lib.win-amd64-3.9\\Crypto\\SelfTest\\Hash\n",
      "    copying lib\\Crypto\\SelfTest\\Hash\\test_HMAC.py -> build\\lib.win-amd64-3.9\\Crypto\\SelfTest\\Hash\n",
      "    copying lib\\Crypto\\SelfTest\\Hash\\test_MD2.py -> build\\lib.win-amd64-3.9\\Crypto\\SelfTest\\Hash\n",
      "    copying lib\\Crypto\\SelfTest\\Hash\\test_MD4.py -> build\\lib.win-amd64-3.9\\Crypto\\SelfTest\\Hash\n",
      "    copying lib\\Crypto\\SelfTest\\Hash\\test_MD5.py -> build\\lib.win-amd64-3.9\\Crypto\\SelfTest\\Hash\n",
      "    copying lib\\Crypto\\SelfTest\\Hash\\test_RIPEMD.py -> build\\lib.win-amd64-3.9\\Crypto\\SelfTest\\Hash\n",
      "    copying lib\\Crypto\\SelfTest\\Hash\\test_SHA.py -> build\\lib.win-amd64-3.9\\Crypto\\SelfTest\\Hash\n",
      "    copying lib\\Crypto\\SelfTest\\Hash\\test_SHA224.py -> build\\lib.win-amd64-3.9\\Crypto\\SelfTest\\Hash\n",
      "    copying lib\\Crypto\\SelfTest\\Hash\\test_SHA256.py -> build\\lib.win-amd64-3.9\\Crypto\\SelfTest\\Hash\n",
      "    copying lib\\Crypto\\SelfTest\\Hash\\test_SHA384.py -> build\\lib.win-amd64-3.9\\Crypto\\SelfTest\\Hash\n",
      "    copying lib\\Crypto\\SelfTest\\Hash\\test_SHA512.py -> build\\lib.win-amd64-3.9\\Crypto\\SelfTest\\Hash\n",
      "    copying lib\\Crypto\\SelfTest\\Hash\\__init__.py -> build\\lib.win-amd64-3.9\\Crypto\\SelfTest\\Hash\n",
      "    creating build\\lib.win-amd64-3.9\\Crypto\\SelfTest\\Protocol\n",
      "    copying lib\\Crypto\\SelfTest\\Protocol\\test_AllOrNothing.py -> build\\lib.win-amd64-3.9\\Crypto\\SelfTest\\Protocol\n",
      "    copying lib\\Crypto\\SelfTest\\Protocol\\test_chaffing.py -> build\\lib.win-amd64-3.9\\Crypto\\SelfTest\\Protocol\n",
      "    copying lib\\Crypto\\SelfTest\\Protocol\\test_KDF.py -> build\\lib.win-amd64-3.9\\Crypto\\SelfTest\\Protocol\n",
      "    copying lib\\Crypto\\SelfTest\\Protocol\\test_rfc1751.py -> build\\lib.win-amd64-3.9\\Crypto\\SelfTest\\Protocol\n",
      "    copying lib\\Crypto\\SelfTest\\Protocol\\__init__.py -> build\\lib.win-amd64-3.9\\Crypto\\SelfTest\\Protocol\n",
      "    creating build\\lib.win-amd64-3.9\\Crypto\\SelfTest\\PublicKey\n",
      "    copying lib\\Crypto\\SelfTest\\PublicKey\\test_DSA.py -> build\\lib.win-amd64-3.9\\Crypto\\SelfTest\\PublicKey\n",
      "    copying lib\\Crypto\\SelfTest\\PublicKey\\test_ElGamal.py -> build\\lib.win-amd64-3.9\\Crypto\\SelfTest\\PublicKey\n",
      "    copying lib\\Crypto\\SelfTest\\PublicKey\\test_importKey.py -> build\\lib.win-amd64-3.9\\Crypto\\SelfTest\\PublicKey\n",
      "    copying lib\\Crypto\\SelfTest\\PublicKey\\test_RSA.py -> build\\lib.win-amd64-3.9\\Crypto\\SelfTest\\PublicKey\n",
      "    copying lib\\Crypto\\SelfTest\\PublicKey\\__init__.py -> build\\lib.win-amd64-3.9\\Crypto\\SelfTest\\PublicKey\n",
      "    creating build\\lib.win-amd64-3.9\\Crypto\\SelfTest\\Random\n",
      "    copying lib\\Crypto\\SelfTest\\Random\\test_random.py -> build\\lib.win-amd64-3.9\\Crypto\\SelfTest\\Random\n",
      "    copying lib\\Crypto\\SelfTest\\Random\\test_rpoolcompat.py -> build\\lib.win-amd64-3.9\\Crypto\\SelfTest\\Random\n",
      "    copying lib\\Crypto\\SelfTest\\Random\\test__UserFriendlyRNG.py -> build\\lib.win-amd64-3.9\\Crypto\\SelfTest\\Random\n",
      "    copying lib\\Crypto\\SelfTest\\Random\\__init__.py -> build\\lib.win-amd64-3.9\\Crypto\\SelfTest\\Random\n",
      "    creating build\\lib.win-amd64-3.9\\Crypto\\SelfTest\\Random\\Fortuna\n",
      "    copying lib\\Crypto\\SelfTest\\Random\\Fortuna\\test_FortunaAccumulator.py -> build\\lib.win-amd64-3.9\\Crypto\\SelfTest\\Random\\Fortuna\n",
      "    copying lib\\Crypto\\SelfTest\\Random\\Fortuna\\test_FortunaGenerator.py -> build\\lib.win-amd64-3.9\\Crypto\\SelfTest\\Random\\Fortuna\n",
      "    copying lib\\Crypto\\SelfTest\\Random\\Fortuna\\test_SHAd256.py -> build\\lib.win-amd64-3.9\\Crypto\\SelfTest\\Random\\Fortuna\n",
      "    copying lib\\Crypto\\SelfTest\\Random\\Fortuna\\__init__.py -> build\\lib.win-amd64-3.9\\Crypto\\SelfTest\\Random\\Fortuna\n",
      "    creating build\\lib.win-amd64-3.9\\Crypto\\SelfTest\\Random\\OSRNG\n",
      "    copying lib\\Crypto\\SelfTest\\Random\\OSRNG\\test_fallback.py -> build\\lib.win-amd64-3.9\\Crypto\\SelfTest\\Random\\OSRNG\n",
      "    copying lib\\Crypto\\SelfTest\\Random\\OSRNG\\test_generic.py -> build\\lib.win-amd64-3.9\\Crypto\\SelfTest\\Random\\OSRNG\n",
      "    copying lib\\Crypto\\SelfTest\\Random\\OSRNG\\test_nt.py -> build\\lib.win-amd64-3.9\\Crypto\\SelfTest\\Random\\OSRNG\n",
      "    copying lib\\Crypto\\SelfTest\\Random\\OSRNG\\test_posix.py -> build\\lib.win-amd64-3.9\\Crypto\\SelfTest\\Random\\OSRNG\n",
      "    copying lib\\Crypto\\SelfTest\\Random\\OSRNG\\test_winrandom.py -> build\\lib.win-amd64-3.9\\Crypto\\SelfTest\\Random\\OSRNG\n",
      "    copying lib\\Crypto\\SelfTest\\Random\\OSRNG\\__init__.py -> build\\lib.win-amd64-3.9\\Crypto\\SelfTest\\Random\\OSRNG\n",
      "    creating build\\lib.win-amd64-3.9\\Crypto\\SelfTest\\Util\n",
      "    copying lib\\Crypto\\SelfTest\\Util\\test_asn1.py -> build\\lib.win-amd64-3.9\\Crypto\\SelfTest\\Util\n",
      "    copying lib\\Crypto\\SelfTest\\Util\\test_Counter.py -> build\\lib.win-amd64-3.9\\Crypto\\SelfTest\\Util\n",
      "    copying lib\\Crypto\\SelfTest\\Util\\test_number.py -> build\\lib.win-amd64-3.9\\Crypto\\SelfTest\\Util\n",
      "    copying lib\\Crypto\\SelfTest\\Util\\test_winrandom.py -> build\\lib.win-amd64-3.9\\Crypto\\SelfTest\\Util\n",
      "    copying lib\\Crypto\\SelfTest\\Util\\__init__.py -> build\\lib.win-amd64-3.9\\Crypto\\SelfTest\\Util\n",
      "    creating build\\lib.win-amd64-3.9\\Crypto\\SelfTest\\Signature\n",
      "    copying lib\\Crypto\\SelfTest\\Signature\\test_pkcs1_15.py -> build\\lib.win-amd64-3.9\\Crypto\\SelfTest\\Signature\n",
      "    copying lib\\Crypto\\SelfTest\\Signature\\test_pkcs1_pss.py -> build\\lib.win-amd64-3.9\\Crypto\\SelfTest\\Signature\n",
      "    copying lib\\Crypto\\SelfTest\\Signature\\__init__.py -> build\\lib.win-amd64-3.9\\Crypto\\SelfTest\\Signature\n",
      "    creating build\\lib.win-amd64-3.9\\Crypto\\Protocol\n",
      "    copying lib\\Crypto\\Protocol\\AllOrNothing.py -> build\\lib.win-amd64-3.9\\Crypto\\Protocol\n",
      "    copying lib\\Crypto\\Protocol\\Chaffing.py -> build\\lib.win-amd64-3.9\\Crypto\\Protocol\n",
      "    copying lib\\Crypto\\Protocol\\KDF.py -> build\\lib.win-amd64-3.9\\Crypto\\Protocol\n",
      "    copying lib\\Crypto\\Protocol\\__init__.py -> build\\lib.win-amd64-3.9\\Crypto\\Protocol\n",
      "    creating build\\lib.win-amd64-3.9\\Crypto\\PublicKey\n",
      "    copying lib\\Crypto\\PublicKey\\DSA.py -> build\\lib.win-amd64-3.9\\Crypto\\PublicKey\n",
      "    copying lib\\Crypto\\PublicKey\\ElGamal.py -> build\\lib.win-amd64-3.9\\Crypto\\PublicKey\n",
      "    copying lib\\Crypto\\PublicKey\\pubkey.py -> build\\lib.win-amd64-3.9\\Crypto\\PublicKey\n",
      "    copying lib\\Crypto\\PublicKey\\RSA.py -> build\\lib.win-amd64-3.9\\Crypto\\PublicKey\n",
      "    copying lib\\Crypto\\PublicKey\\_DSA.py -> build\\lib.win-amd64-3.9\\Crypto\\PublicKey\n",
      "    copying lib\\Crypto\\PublicKey\\_RSA.py -> build\\lib.win-amd64-3.9\\Crypto\\PublicKey\n",
      "    copying lib\\Crypto\\PublicKey\\_slowmath.py -> build\\lib.win-amd64-3.9\\Crypto\\PublicKey\n",
      "    copying lib\\Crypto\\PublicKey\\__init__.py -> build\\lib.win-amd64-3.9\\Crypto\\PublicKey\n",
      "    creating build\\lib.win-amd64-3.9\\Crypto\\Signature\n",
      "    copying lib\\Crypto\\Signature\\PKCS1_PSS.py -> build\\lib.win-amd64-3.9\\Crypto\\Signature\n",
      "    copying lib\\Crypto\\Signature\\PKCS1_v1_5.py -> build\\lib.win-amd64-3.9\\Crypto\\Signature\n",
      "    copying lib\\Crypto\\Signature\\__init__.py -> build\\lib.win-amd64-3.9\\Crypto\\Signature\n",
      "    Skipping optional fixer: buffer\n",
      "    Skipping optional fixer: idioms\n",
      "    Skipping optional fixer: set_literal\n",
      "    Skipping optional fixer: ws_comma\n",
      "    running build_ext\n",
      "    warning: GMP or MPIR library not found; Not building Crypto.PublicKey._fastmath.\n",
      "    building 'Crypto.Random.OSRNG.winrandom' extension\n",
      "    error: Microsoft Visual C++ 14.0 is required. Get it with \"Build Tools for Visual Studio\": https://visualstudio.microsoft.com/downloads/\n",
      "    ----------------------------------------\n",
      "ERROR: Command errored out with exit status 1: 'c:\\Users\\think\\AppData\\Local\\Programs\\Python\\Python39\\python.exe' -u -c 'import sys, setuptools, tokenize; sys.argv[0] = '\"'\"'C:\\\\Users\\\\think\\\\AppData\\\\Local\\\\Temp\\\\pip-install-5s9sj8y3\\\\pycrypto\\\\setup.py'\"'\"'; __file__='\"'\"'C:\\\\Users\\\\think\\\\AppData\\\\Local\\\\Temp\\\\pip-install-5s9sj8y3\\\\pycrypto\\\\setup.py'\"'\"';f=getattr(tokenize, '\"'\"'open'\"'\"', open)(__file__);code=f.read().replace('\"'\"'\\r\\n'\"'\"', '\"'\"'\\n'\"'\"');f.close();exec(compile(code, __file__, '\"'\"'exec'\"'\"'))' install --record 'C:\\Users\\think\\AppData\\Local\\Temp\\pip-record-ms6fkvd9\\install-record.txt' --single-version-externally-managed --compile --install-headers 'c:\\Users\\think\\AppData\\Local\\Programs\\Python\\Python39\\Include\\pycrypto' Check the logs for full command output.\n",
      "WARNING: You are using pip version 20.2.3; however, version 23.2.1 is available.\n",
      "You should consider upgrading via the 'c:\\Users\\think\\AppData\\Local\\Programs\\Python\\Python39\\python.exe -m pip install --upgrade pip' command.\n"
     ]
    }
   ],
   "source": [
    "%pip install pycryptodome\n",
    "%pip install pycrypto\n"
   ]
  },
  {
   "cell_type": "code",
   "execution_count": 18,
   "metadata": {},
   "outputs": [
    {
     "ename": "ModuleNotFoundError",
     "evalue": "No module named 'Cryptodome'",
     "output_type": "error",
     "traceback": [
      "\u001b[1;31m---------------------------------------------------------------------------\u001b[0m",
      "\u001b[1;31mModuleNotFoundError\u001b[0m                       Traceback (most recent call last)",
      "Cell \u001b[1;32mIn[18], line 1\u001b[0m\n\u001b[1;32m----> 1\u001b[0m \u001b[39mfrom\u001b[39;00m \u001b[39mCryptodome\u001b[39;00m\u001b[39m.\u001b[39;00m\u001b[39mPublicKey\u001b[39;00m \u001b[39mimport\u001b[39;00m RSA\n\u001b[0;32m      2\u001b[0m \u001b[39mfrom\u001b[39;00m \u001b[39mCryptodome\u001b[39;00m\u001b[39m.\u001b[39;00m\u001b[39mSignature\u001b[39;00m \u001b[39mimport\u001b[39;00m pkcs1_15\n\u001b[0;32m      3\u001b[0m \u001b[39mfrom\u001b[39;00m \u001b[39mCryptodome\u001b[39;00m\u001b[39m.\u001b[39;00m\u001b[39mHash\u001b[39;00m \u001b[39mimport\u001b[39;00m SHA256\n",
      "\u001b[1;31mModuleNotFoundError\u001b[0m: No module named 'Cryptodome'"
     ]
    }
   ],
   "source": [
    "from Cryptodome.PublicKey import RSA\n",
    "from Cryptodome.Signature import pkcs1_15\n",
    "from Cryptodome.Hash import SHA256\n",
    "import base64\n",
    "\n",
    "# 生成三个公私钥对\n",
    "key_pairs = [RSA.generate(2048) for _ in range(3)]\n",
    "\n",
    "# 保存公钥和私钥到文件\n",
    "for i, key_pair in enumerate(key_pairs, 1):\n",
    "    # 保存公钥\n",
    "    with open(f\"public_key_{i}.pem\", \"wb\") as pub_file:\n",
    "        pub_file.write(key_pair.publickey().export_key())\n",
    "\n",
    "    # 保存私钥\n",
    "    with open(f\"private_key_{i}.pem\", \"wb\") as priv_file:\n",
    "        priv_file.write(key_pair.export_key())\n",
    "\n",
    "# 使用私钥生成三个签名，这里我们以公钥作为要签名的数据，并保存到文件\n",
    "for i, key_pair in enumerate(key_pairs, 1):\n",
    "    h = SHA256.new(key_pair.publickey().export_key())\n",
    "    signature = pkcs1_15.new(key_pair).sign(h)\n",
    "    encoded_signature = base64.b64encode(signature)\n",
    "\n",
    "    with open(f\"signature_{i}.txt\", \"w\") as sig_file:\n",
    "        sig_file.write(encoded_signature.decode())\n"
   ]
  }
 ],
 "metadata": {
  "kernelspec": {
   "display_name": "Python 3",
   "language": "python",
   "name": "python3"
  },
  "language_info": {
   "codemirror_mode": {
    "name": "ipython",
    "version": 3
   },
   "file_extension": ".py",
   "mimetype": "text/x-python",
   "name": "python",
   "nbconvert_exporter": "python",
   "pygments_lexer": "ipython3",
   "version": "3.9.0"
  },
  "orig_nbformat": 4
 },
 "nbformat": 4,
 "nbformat_minor": 2
}

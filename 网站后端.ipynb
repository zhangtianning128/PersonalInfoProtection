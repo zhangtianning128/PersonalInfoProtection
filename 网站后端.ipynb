{
 "cells": [
  {
   "cell_type": "code",
   "execution_count": 2,
   "metadata": {},
   "outputs": [
    {
     "name": "stdout",
     "output_type": "stream",
     "text": [
      "Collecting flaskNote: you may need to restart the kernel to use updated packages.\n"
     ]
    },
    {
     "name": "stderr",
     "output_type": "stream",
     "text": [
      "  WARNING: The script flask.exe is installed in 'c:\\Users\\think\\AppData\\Local\\Programs\\Python\\Python39\\Scripts' which is not on PATH.\n",
      "  Consider adding this directory to PATH or, if you prefer to suppress this warning, use --no-warn-script-location.\n",
      "WARNING: You are using pip version 20.2.3; however, version 23.2 is available.\n",
      "You should consider upgrading via the 'c:\\Users\\think\\AppData\\Local\\Programs\\Python\\Python39\\python.exe -m pip install --upgrade pip' command.\n"
     ]
    },
    {
     "name": "stdout",
     "output_type": "stream",
     "text": [
      "\n",
      "  Downloading Flask-2.3.2-py3-none-any.whl (96 kB)\n",
      "Collecting Jinja2>=3.1.2\n",
      "  Downloading Jinja2-3.1.2-py3-none-any.whl (133 kB)\n",
      "Collecting Werkzeug>=2.3.3\n",
      "  Downloading Werkzeug-2.3.6-py3-none-any.whl (242 kB)\n",
      "Collecting itsdangerous>=2.1.2\n",
      "  Downloading itsdangerous-2.1.2-py3-none-any.whl (15 kB)\n",
      "Collecting click>=8.1.3\n",
      "  Downloading click-8.1.6-py3-none-any.whl (97 kB)\n",
      "Requirement already satisfied: importlib-metadata>=3.6.0; python_version < \"3.10\" in c:\\users\\think\\appdata\\roaming\\python\\python39\\site-packages (from flask) (6.6.0)\n",
      "Collecting blinker>=1.6.2\n",
      "  Downloading blinker-1.6.2-py3-none-any.whl (13 kB)\n",
      "Collecting MarkupSafe>=2.0\n",
      "  Downloading MarkupSafe-2.1.3-cp39-cp39-win_amd64.whl (17 kB)\n",
      "Requirement already satisfied: colorama; platform_system == \"Windows\" in c:\\users\\think\\appdata\\roaming\\python\\python39\\site-packages (from click>=8.1.3->flask) (0.4.6)\n",
      "Requirement already satisfied: zipp>=0.5 in c:\\users\\think\\appdata\\roaming\\python\\python39\\site-packages (from importlib-metadata>=3.6.0; python_version < \"3.10\"->flask) (3.15.0)\n",
      "Installing collected packages: MarkupSafe, Jinja2, Werkzeug, itsdangerous, click, blinker, flask\n",
      "Successfully installed Jinja2-3.1.2 MarkupSafe-2.1.3 Werkzeug-2.3.6 blinker-1.6.2 click-8.1.6 flask-2.3.2 itsdangerous-2.1.2\n",
      "Requirement already satisfied: cryptography in c:\\users\\think\\appdata\\local\\programs\\python\\python39\\lib\\site-packages (41.0.2)\n",
      "Requirement already satisfied: cffi>=1.12 in c:\\users\\think\\appdata\\local\\programs\\python\\python39\\lib\\site-packages (from cryptography) (1.15.1)\n",
      "Requirement already satisfied: pycparser in c:\\users\\think\\appdata\\local\\programs\\python\\python39\\lib\\site-packages (from cffi>=1.12->cryptography) (2.21)\n",
      "Note: you may need to restart the kernel to use updated packages.\n"
     ]
    },
    {
     "name": "stderr",
     "output_type": "stream",
     "text": [
      "WARNING: You are using pip version 20.2.3; however, version 23.2 is available.\n",
      "You should consider upgrading via the 'c:\\Users\\think\\AppData\\Local\\Programs\\Python\\Python39\\python.exe -m pip install --upgrade pip' command.\n"
     ]
    }
   ],
   "source": [
    "%pip install flask\n",
    "%pip install cryptography\n"
   ]
  },
  {
   "cell_type": "code",
   "execution_count": 1,
   "metadata": {},
   "outputs": [
    {
     "name": "stdout",
     "output_type": "stream",
     "text": [
      " * Serving Flask app '__main__'\n",
      " * Debug mode: on\n"
     ]
    },
    {
     "name": "stderr",
     "output_type": "stream",
     "text": [
      "WARNING: This is a development server. Do not use it in a production deployment. Use a production WSGI server instead.\n",
      " * Running on http://127.0.0.1:5000\n",
      "Press CTRL+C to quit\n",
      " * Restarting with stat\n"
     ]
    },
    {
     "ename": "SystemExit",
     "evalue": "1",
     "output_type": "error",
     "traceback": [
      "An exception has occurred, use %tb to see the full traceback.\n",
      "\u001b[1;31mSystemExit\u001b[0m\u001b[1;31m:\u001b[0m 1\n"
     ]
    },
    {
     "name": "stderr",
     "output_type": "stream",
     "text": [
      "C:\\Users\\think\\AppData\\Roaming\\Python\\Python39\\site-packages\\IPython\\core\\interactiveshell.py:3516: UserWarning: To exit: use 'exit', 'quit', or Ctrl-D.\n",
      "  warn(\"To exit: use 'exit', 'quit', or Ctrl-D.\", stacklevel=1)\n"
     ]
    }
   ],
   "source": [
    "from flask import Flask, request\n",
    "from cryptography.hazmat.primitives import serialization, hashes\n",
    "from cryptography.hazmat.primitives.asymmetric import padding\n",
    "from cryptography.exceptions import InvalidSignature\n",
    "from cryptography.hazmat.backends import default_backend\n",
    "\n",
    "app = Flask(__name__)\n",
    "\n",
    "@app.route('/verify', methods=['POST'])\n",
    "def verify_signature():\n",
    "    # Get the public key and signature from the form data\n",
    "    public_key_pem = request.form.get('public_key').encode()\n",
    "    signature = bytes.fromhex(request.form.get('signature'))\n",
    "\n",
    "    # The message that the user signed\n",
    "    message = \"This is a message that needs to be signed\"\n",
    "\n",
    "    # Load the public key\n",
    "    public_key = serialization.load_pem_public_key(public_key_pem, default_backend())\n",
    "\n",
    "    try:\n",
    "        # Verify the signature\n",
    "        public_key.verify(\n",
    "            signature,\n",
    "            message.encode(),\n",
    "            padding.PSS(\n",
    "                mgf=padding.MGF1(hashes.SHA256()),\n",
    "                salt_length=padding.PSS.MAX_LENGTH\n",
    "            ),\n",
    "            hashes.SHA256()\n",
    "        )\n",
    "        return \"The signature is valid.\"\n",
    "    except InvalidSignature:\n",
    "        return \"The signature is invalid.\"\n",
    "\n",
    "if __name__ == '__main__':\n",
    "    app.run(debug=True)\n"
   ]
  },
  {
   "cell_type": "code",
   "execution_count": 5,
   "metadata": {},
   "outputs": [
    {
     "ename": "SystemExit",
     "evalue": "1",
     "output_type": "error",
     "traceback": [
      "\u001b[1;31m---------------------------------------------------------------------------\u001b[0m",
      "\u001b[1;31mSystemExit\u001b[0m                                Traceback (most recent call last)",
      "Cell \u001b[1;32mIn[4], line 37\u001b[0m\n\u001b[0;32m     34\u001b[0m         \u001b[39mreturn\u001b[39;00m \u001b[39m\"\u001b[39m\u001b[39mThe signature is invalid.\u001b[39m\u001b[39m\"\u001b[39m\n\u001b[0;32m     36\u001b[0m \u001b[39mif\u001b[39;00m \u001b[39m__name__\u001b[39m \u001b[39m==\u001b[39m \u001b[39m'\u001b[39m\u001b[39m__main__\u001b[39m\u001b[39m'\u001b[39m:\n\u001b[1;32m---> 37\u001b[0m     app\u001b[39m.\u001b[39;49mrun(debug\u001b[39m=\u001b[39;49m\u001b[39mTrue\u001b[39;49;00m)\n",
      "File \u001b[1;32mc:\\Users\\think\\AppData\\Local\\Programs\\Python\\Python39\\lib\\site-packages\\flask\\app.py:889\u001b[0m, in \u001b[0;36mFlask.run\u001b[1;34m(self, host, port, debug, load_dotenv, **options)\u001b[0m\n\u001b[0;32m    886\u001b[0m \u001b[39mfrom\u001b[39;00m \u001b[39mwerkzeug\u001b[39;00m\u001b[39m.\u001b[39;00m\u001b[39mserving\u001b[39;00m \u001b[39mimport\u001b[39;00m run_simple\n\u001b[0;32m    888\u001b[0m \u001b[39mtry\u001b[39;00m:\n\u001b[1;32m--> 889\u001b[0m     run_simple(t\u001b[39m.\u001b[39mcast(\u001b[39mstr\u001b[39m, host), port, \u001b[39mself\u001b[39m, \u001b[39m*\u001b[39m\u001b[39m*\u001b[39moptions)\n\u001b[0;32m    890\u001b[0m \u001b[39mfinally\u001b[39;00m:\n\u001b[0;32m    891\u001b[0m     \u001b[39m# reset the first request information if the development server\u001b[39;00m\n\u001b[0;32m    892\u001b[0m     \u001b[39m# reset normally.  This makes it possible to restart the server\u001b[39;00m\n\u001b[0;32m    893\u001b[0m     \u001b[39m# without reloader and that stuff from an interactive shell.\u001b[39;00m\n\u001b[0;32m    894\u001b[0m     \u001b[39mself\u001b[39m\u001b[39m.\u001b[39m_got_first_request \u001b[39m=\u001b[39m \u001b[39mFalse\u001b[39;00m\n",
      "File \u001b[1;32mc:\\Users\\think\\AppData\\Local\\Programs\\Python\\Python39\\lib\\site-packages\\werkzeug\\serving.py:1097\u001b[0m, in \u001b[0;36mrun_simple\u001b[1;34m(hostname, port, application, use_reloader, use_debugger, use_evalex, extra_files, exclude_patterns, reloader_interval, reloader_type, threaded, processes, request_handler, static_files, passthrough_errors, ssl_context)\u001b[0m\n\u001b[0;32m   1094\u001b[0m \u001b[39mfrom\u001b[39;00m \u001b[39m.\u001b[39;00m\u001b[39m_reloader\u001b[39;00m \u001b[39mimport\u001b[39;00m run_with_reloader\n\u001b[0;32m   1096\u001b[0m \u001b[39mtry\u001b[39;00m:\n\u001b[1;32m-> 1097\u001b[0m     run_with_reloader(\n\u001b[0;32m   1098\u001b[0m         srv\u001b[39m.\u001b[39;49mserve_forever,\n\u001b[0;32m   1099\u001b[0m         extra_files\u001b[39m=\u001b[39;49mextra_files,\n\u001b[0;32m   1100\u001b[0m         exclude_patterns\u001b[39m=\u001b[39;49mexclude_patterns,\n\u001b[0;32m   1101\u001b[0m         interval\u001b[39m=\u001b[39;49mreloader_interval,\n\u001b[0;32m   1102\u001b[0m         reloader_type\u001b[39m=\u001b[39;49mreloader_type,\n\u001b[0;32m   1103\u001b[0m     )\n\u001b[0;32m   1104\u001b[0m \u001b[39mfinally\u001b[39;00m:\n\u001b[0;32m   1105\u001b[0m     srv\u001b[39m.\u001b[39mserver_close()\n",
      "File \u001b[1;32mc:\\Users\\think\\AppData\\Local\\Programs\\Python\\Python39\\lib\\site-packages\\werkzeug\\_reloader.py:456\u001b[0m, in \u001b[0;36mrun_with_reloader\u001b[1;34m(main_func, extra_files, exclude_patterns, interval, reloader_type)\u001b[0m\n\u001b[0;32m    454\u001b[0m             reloader\u001b[39m.\u001b[39mrun()\n\u001b[0;32m    455\u001b[0m     \u001b[39melse\u001b[39;00m:\n\u001b[1;32m--> 456\u001b[0m         sys\u001b[39m.\u001b[39;49mexit(reloader\u001b[39m.\u001b[39;49mrestart_with_reloader())\n\u001b[0;32m    457\u001b[0m \u001b[39mexcept\u001b[39;00m \u001b[39mKeyboardInterrupt\u001b[39;00m:\n\u001b[0;32m    458\u001b[0m     \u001b[39mpass\u001b[39;00m\n",
      "\u001b[1;31mSystemExit\u001b[0m: 1"
     ]
    }
   ],
   "source": [
    "%tb"
   ]
  }
 ],
 "metadata": {
  "kernelspec": {
   "display_name": "Python 3",
   "language": "python",
   "name": "python3"
  },
  "language_info": {
   "codemirror_mode": {
    "name": "ipython",
    "version": 3
   },
   "file_extension": ".py",
   "mimetype": "text/x-python",
   "name": "python",
   "nbconvert_exporter": "python",
   "pygments_lexer": "ipython3",
   "version": "3.9.0"
  },
  "orig_nbformat": 4
 },
 "nbformat": 4,
 "nbformat_minor": 2
}
